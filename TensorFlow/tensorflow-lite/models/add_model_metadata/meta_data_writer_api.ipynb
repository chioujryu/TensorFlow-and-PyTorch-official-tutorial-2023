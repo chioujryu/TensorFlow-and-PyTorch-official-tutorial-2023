{
 "cells": [
  {
   "attachments": {},
   "cell_type": "markdown",
   "metadata": {},
   "source": [
    "# TensorFlow Lite Metadata Writer API\n",
    "\n",
    "Reference: https://www.tensorflow.org/lite/models/convert/metadata_writer_tutorial\n",
    "\n",
    "[TensorFlow Lite Model Metadata](https://www.tensorflow.org/lite/models/convert/metadata) is a standard model description format. It contains rich semantics for general model information, inputs/outputs, and associated files, which makes the model self-descriptive and exchangeable.\n",
    "TensorFlow Lite模型元數據是一種標準的模型描述格式。它包含了豐富的一般模型信息、輸入/輸出和相關文件的語義，這使得模型具有自描述性和可交換性。\n",
    "\n",
    "Model Metadata is currently used in the following two primary use cases:\n",
    "模型元數據目前用於以下兩個主要用例：\n",
    "\n",
    "1. **Enable easy model inference using TensorFlow Lite [Task Library](https://www.tensorflow.org/lite/inference_with_metadata/task_library/overview) and [codegen tools](https://www.tensorflow.org/lite/inference_with_metadata/codegen)**. Model Metadata contains the mandatory information required during inference, such as label files in image classification, sampling rate of the audio input in audio classification, and tokenizer type to process input string in Natural Language models.使用TensorFlow Lite任務庫和codegen工具實現簡單的模型推理。模型元數據包含推理過程中所需的強制性信息，例如圖像分類中的標籤文件、音頻分類中音頻輸入的採樣率以及自然語言模型中處理輸入字符串的分詞器類型。\n",
    "\n",
    "\n",
    "2. **Enable model creators to include documentation**, such as description of model inputs/outputs or how to use the model. Model users can view these documentation via visualization tools such as [Netron](https://netron.app/).使模型創建者能夠包括文檔，例如模型輸入/輸出的描述或如何使用模型。模型用戶可以通過Netron等可視化工具查看這些文檔。\n"
   ]
  },
  {
   "cell_type": "code",
   "execution_count": null,
   "metadata": {},
   "outputs": [],
   "source": [
    "!pip install tflite-support-nightly"
   ]
  },
  {
   "cell_type": "code",
   "execution_count": 3,
   "metadata": {},
   "outputs": [],
   "source": [
    "from tflite_support.metadata_writers import image_classifier\n",
    "from tflite_support.metadata_writers import writer_utils"
   ]
  },
  {
   "attachments": {},
   "cell_type": "markdown",
   "metadata": {},
   "source": [
    "## Create Model Metadata for Task Library and Codegen\n",
    "為任務庫和Codegen創建模型元數據"
   ]
  },
  {
   "cell_type": "code",
   "execution_count": null,
   "metadata": {},
   "outputs": [],
   "source": []
  }
 ],
 "metadata": {
  "kernelspec": {
   "display_name": "TensorFlow_2.8.3__Python_3.9",
   "language": "python",
   "name": "python3"
  },
  "language_info": {
   "codemirror_mode": {
    "name": "ipython",
    "version": 3
   },
   "file_extension": ".py",
   "mimetype": "text/x-python",
   "name": "python",
   "nbconvert_exporter": "python",
   "pygments_lexer": "ipython3",
   "version": "3.9.16"
  },
  "orig_nbformat": 4
 },
 "nbformat": 4,
 "nbformat_minor": 2
}
